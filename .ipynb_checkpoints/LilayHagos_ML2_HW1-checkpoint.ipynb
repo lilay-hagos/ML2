{
 "cells": [
  {
   "cell_type": "markdown",
   "id": "1669f6d3",
   "metadata": {
    "id": "6030cf7e"
   },
   "source": [
    "The link to the github repo to which this notebook is posted can be found [here](https://github.com/lilay-hagos/ML2)"
   ]
  },
  {
   "cell_type": "code",
   "execution_count": null,
   "id": "1f0c89fe",
   "metadata": {},
   "outputs": [],
   "source": [
    "import pandas as pd\n",
    "import numpy as np\n",
    "import matplotlib.pyplot as plt\n",
    "import seaborn as sns\n",
    "import aimodelshare as ai\n",
    "\n"
   ]
  },
  {
   "cell_type": "code",
   "execution_count": 2,
   "id": "4D3PqQjPU6dv",
   "metadata": {
    "colab": {
     "base_uri": "https://localhost:8080/",
     "height": 131
    },
    "id": "4D3PqQjPU6dv",
    "outputId": "6989decc-5984-45a7-8aaf-1d51d6e69ec2"
   },
   "outputs": [
    {
     "data": {
      "text/html": [
       "\n",
       "     <input type=\"file\" id=\"files-2ff7440a-a63f-4ac6-b90d-244f7a18bc17\" name=\"files[]\" multiple disabled\n",
       "        style=\"border:none\" />\n",
       "     <output id=\"result-2ff7440a-a63f-4ac6-b90d-244f7a18bc17\">\n",
       "      Upload widget is only available when the cell has been executed in the\n",
       "      current browser session. Please rerun this cell to enable.\n",
       "      </output>\n",
       "      <script>// Copyright 2017 Google LLC\n",
       "//\n",
       "// Licensed under the Apache License, Version 2.0 (the \"License\");\n",
       "// you may not use this file except in compliance with the License.\n",
       "// You may obtain a copy of the License at\n",
       "//\n",
       "//      http://www.apache.org/licenses/LICENSE-2.0\n",
       "//\n",
       "// Unless required by applicable law or agreed to in writing, software\n",
       "// distributed under the License is distributed on an \"AS IS\" BASIS,\n",
       "// WITHOUT WARRANTIES OR CONDITIONS OF ANY KIND, either express or implied.\n",
       "// See the License for the specific language governing permissions and\n",
       "// limitations under the License.\n",
       "\n",
       "/**\n",
       " * @fileoverview Helpers for google.colab Python module.\n",
       " */\n",
       "(function(scope) {\n",
       "function span(text, styleAttributes = {}) {\n",
       "  const element = document.createElement('span');\n",
       "  element.textContent = text;\n",
       "  for (const key of Object.keys(styleAttributes)) {\n",
       "    element.style[key] = styleAttributes[key];\n",
       "  }\n",
       "  return element;\n",
       "}\n",
       "\n",
       "// Max number of bytes which will be uploaded at a time.\n",
       "const MAX_PAYLOAD_SIZE = 100 * 1024;\n",
       "\n",
       "function _uploadFiles(inputId, outputId) {\n",
       "  const steps = uploadFilesStep(inputId, outputId);\n",
       "  const outputElement = document.getElementById(outputId);\n",
       "  // Cache steps on the outputElement to make it available for the next call\n",
       "  // to uploadFilesContinue from Python.\n",
       "  outputElement.steps = steps;\n",
       "\n",
       "  return _uploadFilesContinue(outputId);\n",
       "}\n",
       "\n",
       "// This is roughly an async generator (not supported in the browser yet),\n",
       "// where there are multiple asynchronous steps and the Python side is going\n",
       "// to poll for completion of each step.\n",
       "// This uses a Promise to block the python side on completion of each step,\n",
       "// then passes the result of the previous step as the input to the next step.\n",
       "function _uploadFilesContinue(outputId) {\n",
       "  const outputElement = document.getElementById(outputId);\n",
       "  const steps = outputElement.steps;\n",
       "\n",
       "  const next = steps.next(outputElement.lastPromiseValue);\n",
       "  return Promise.resolve(next.value.promise).then((value) => {\n",
       "    // Cache the last promise value to make it available to the next\n",
       "    // step of the generator.\n",
       "    outputElement.lastPromiseValue = value;\n",
       "    return next.value.response;\n",
       "  });\n",
       "}\n",
       "\n",
       "/**\n",
       " * Generator function which is called between each async step of the upload\n",
       " * process.\n",
       " * @param {string} inputId Element ID of the input file picker element.\n",
       " * @param {string} outputId Element ID of the output display.\n",
       " * @return {!Iterable<!Object>} Iterable of next steps.\n",
       " */\n",
       "function* uploadFilesStep(inputId, outputId) {\n",
       "  const inputElement = document.getElementById(inputId);\n",
       "  inputElement.disabled = false;\n",
       "\n",
       "  const outputElement = document.getElementById(outputId);\n",
       "  outputElement.innerHTML = '';\n",
       "\n",
       "  const pickedPromise = new Promise((resolve) => {\n",
       "    inputElement.addEventListener('change', (e) => {\n",
       "      resolve(e.target.files);\n",
       "    });\n",
       "  });\n",
       "\n",
       "  const cancel = document.createElement('button');\n",
       "  inputElement.parentElement.appendChild(cancel);\n",
       "  cancel.textContent = 'Cancel upload';\n",
       "  const cancelPromise = new Promise((resolve) => {\n",
       "    cancel.onclick = () => {\n",
       "      resolve(null);\n",
       "    };\n",
       "  });\n",
       "\n",
       "  // Wait for the user to pick the files.\n",
       "  const files = yield {\n",
       "    promise: Promise.race([pickedPromise, cancelPromise]),\n",
       "    response: {\n",
       "      action: 'starting',\n",
       "    }\n",
       "  };\n",
       "\n",
       "  cancel.remove();\n",
       "\n",
       "  // Disable the input element since further picks are not allowed.\n",
       "  inputElement.disabled = true;\n",
       "\n",
       "  if (!files) {\n",
       "    return {\n",
       "      response: {\n",
       "        action: 'complete',\n",
       "      }\n",
       "    };\n",
       "  }\n",
       "\n",
       "  for (const file of files) {\n",
       "    const li = document.createElement('li');\n",
       "    li.append(span(file.name, {fontWeight: 'bold'}));\n",
       "    li.append(span(\n",
       "        `(${file.type || 'n/a'}) - ${file.size} bytes, ` +\n",
       "        `last modified: ${\n",
       "            file.lastModifiedDate ? file.lastModifiedDate.toLocaleDateString() :\n",
       "                                    'n/a'} - `));\n",
       "    const percent = span('0% done');\n",
       "    li.appendChild(percent);\n",
       "\n",
       "    outputElement.appendChild(li);\n",
       "\n",
       "    const fileDataPromise = new Promise((resolve) => {\n",
       "      const reader = new FileReader();\n",
       "      reader.onload = (e) => {\n",
       "        resolve(e.target.result);\n",
       "      };\n",
       "      reader.readAsArrayBuffer(file);\n",
       "    });\n",
       "    // Wait for the data to be ready.\n",
       "    let fileData = yield {\n",
       "      promise: fileDataPromise,\n",
       "      response: {\n",
       "        action: 'continue',\n",
       "      }\n",
       "    };\n",
       "\n",
       "    // Use a chunked sending to avoid message size limits. See b/62115660.\n",
       "    let position = 0;\n",
       "    do {\n",
       "      const length = Math.min(fileData.byteLength - position, MAX_PAYLOAD_SIZE);\n",
       "      const chunk = new Uint8Array(fileData, position, length);\n",
       "      position += length;\n",
       "\n",
       "      const base64 = btoa(String.fromCharCode.apply(null, chunk));\n",
       "      yield {\n",
       "        response: {\n",
       "          action: 'append',\n",
       "          file: file.name,\n",
       "          data: base64,\n",
       "        },\n",
       "      };\n",
       "\n",
       "      let percentDone = fileData.byteLength === 0 ?\n",
       "          100 :\n",
       "          Math.round((position / fileData.byteLength) * 100);\n",
       "      percent.textContent = `${percentDone}% done`;\n",
       "\n",
       "    } while (position < fileData.byteLength);\n",
       "  }\n",
       "\n",
       "  // All done.\n",
       "  yield {\n",
       "    response: {\n",
       "      action: 'complete',\n",
       "    }\n",
       "  };\n",
       "}\n",
       "\n",
       "scope.google = scope.google || {};\n",
       "scope.google.colab = scope.google.colab || {};\n",
       "scope.google.colab._files = {\n",
       "  _uploadFiles,\n",
       "  _uploadFilesContinue,\n",
       "};\n",
       "})(self);\n",
       "</script> "
      ],
      "text/plain": [
       "<IPython.core.display.HTML object>"
      ]
     },
     "metadata": {},
     "output_type": "display_data"
    },
    {
     "name": "stdout",
     "output_type": "stream",
     "text": [
      "Saving X_test.csv to X_test (2).csv\n",
      "Saving X_train.csv to X_train (1).csv\n",
      "Saving y_train.csv to y_train (1).csv\n"
     ]
    }
   ],
   "source": [
    "from google.colab import files\n",
    "data_to_load = files.upload()"
   ]
  },
  {
   "cell_type": "code",
   "execution_count": 14,
   "id": "P9WGzJkpVIv2",
   "metadata": {
    "id": "P9WGzJkpVIv2"
   },
   "outputs": [],
   "source": [
    "import io\n",
    "X_train = pd.read_csv(io.BytesIO(data_to_load['X_train.csv']))\n",
    "X_test = pd.read_csv(io.BytesIO(data_to_load['X_test.csv']))\n",
    "y_train = pd.read_csv(io.BytesIO(data_to_load['y_train.csv']))"
   ]
  },
  {
   "cell_type": "code",
   "execution_count": 15,
   "id": "ae0901fe",
   "metadata": {
    "colab": {
     "base_uri": "https://localhost:8080/",
     "height": 282
    },
    "id": "ae0901fe",
    "outputId": "41cbc144-1a1f-4270-9def-e94cf3b9cbca"
   },
   "outputs": [
    {
     "data": {
      "text/html": [
       "\n",
       "  <div id=\"df-3414c04d-4f59-467c-9072-29809f83324d\">\n",
       "    <div class=\"colab-df-container\">\n",
       "      <div>\n",
       "<style scoped>\n",
       "    .dataframe tbody tr th:only-of-type {\n",
       "        vertical-align: middle;\n",
       "    }\n",
       "\n",
       "    .dataframe tbody tr th {\n",
       "        vertical-align: top;\n",
       "    }\n",
       "\n",
       "    .dataframe thead th {\n",
       "        text-align: right;\n",
       "    }\n",
       "</style>\n",
       "<table border=\"1\" class=\"dataframe\">\n",
       "  <thead>\n",
       "    <tr style=\"text-align: right;\">\n",
       "      <th></th>\n",
       "      <th>Country or region</th>\n",
       "      <th>GDP per capita</th>\n",
       "      <th>Social support</th>\n",
       "      <th>Healthy life expectancy</th>\n",
       "      <th>Freedom to make life choices</th>\n",
       "      <th>Generosity</th>\n",
       "      <th>Perceptions of corruption</th>\n",
       "      <th>name</th>\n",
       "      <th>region</th>\n",
       "      <th>sub-region</th>\n",
       "      <th>Terrorist_attacks</th>\n",
       "    </tr>\n",
       "  </thead>\n",
       "  <tbody>\n",
       "    <tr>\n",
       "      <th>0</th>\n",
       "      <td>Peru</td>\n",
       "      <td>0.960</td>\n",
       "      <td>1.274</td>\n",
       "      <td>0.854</td>\n",
       "      <td>0.455</td>\n",
       "      <td>0.083</td>\n",
       "      <td>0.027</td>\n",
       "      <td>Peru</td>\n",
       "      <td>Americas</td>\n",
       "      <td>Latin America and the Caribbean</td>\n",
       "      <td>18.000000</td>\n",
       "    </tr>\n",
       "    <tr>\n",
       "      <th>1</th>\n",
       "      <td>Nicaragua</td>\n",
       "      <td>0.694</td>\n",
       "      <td>1.325</td>\n",
       "      <td>0.835</td>\n",
       "      <td>0.435</td>\n",
       "      <td>0.200</td>\n",
       "      <td>0.127</td>\n",
       "      <td>Nicaragua</td>\n",
       "      <td>Americas</td>\n",
       "      <td>Latin America and the Caribbean</td>\n",
       "      <td>125.611111</td>\n",
       "    </tr>\n",
       "    <tr>\n",
       "      <th>2</th>\n",
       "      <td>Greece</td>\n",
       "      <td>1.181</td>\n",
       "      <td>1.156</td>\n",
       "      <td>0.999</td>\n",
       "      <td>0.067</td>\n",
       "      <td>0.000</td>\n",
       "      <td>0.034</td>\n",
       "      <td>Greece</td>\n",
       "      <td>Europe</td>\n",
       "      <td>Southern Europe</td>\n",
       "      <td>112.000000</td>\n",
       "    </tr>\n",
       "    <tr>\n",
       "      <th>3</th>\n",
       "      <td>Qatar</td>\n",
       "      <td>1.684</td>\n",
       "      <td>1.313</td>\n",
       "      <td>0.871</td>\n",
       "      <td>0.555</td>\n",
       "      <td>0.220</td>\n",
       "      <td>0.167</td>\n",
       "      <td>Qatar</td>\n",
       "      <td>Asia</td>\n",
       "      <td>Western Asia</td>\n",
       "      <td>57.333333</td>\n",
       "    </tr>\n",
       "    <tr>\n",
       "      <th>4</th>\n",
       "      <td>Uzbekistan</td>\n",
       "      <td>0.745</td>\n",
       "      <td>1.529</td>\n",
       "      <td>0.756</td>\n",
       "      <td>0.631</td>\n",
       "      <td>0.322</td>\n",
       "      <td>0.240</td>\n",
       "      <td>Uzbekistan</td>\n",
       "      <td>Asia</td>\n",
       "      <td>Central Asia</td>\n",
       "      <td>125.611111</td>\n",
       "    </tr>\n",
       "  </tbody>\n",
       "</table>\n",
       "</div>\n",
       "      <button class=\"colab-df-convert\" onclick=\"convertToInteractive('df-3414c04d-4f59-467c-9072-29809f83324d')\"\n",
       "              title=\"Convert this dataframe to an interactive table.\"\n",
       "              style=\"display:none;\">\n",
       "        \n",
       "  <svg xmlns=\"http://www.w3.org/2000/svg\" height=\"24px\"viewBox=\"0 0 24 24\"\n",
       "       width=\"24px\">\n",
       "    <path d=\"M0 0h24v24H0V0z\" fill=\"none\"/>\n",
       "    <path d=\"M18.56 5.44l.94 2.06.94-2.06 2.06-.94-2.06-.94-.94-2.06-.94 2.06-2.06.94zm-11 1L8.5 8.5l.94-2.06 2.06-.94-2.06-.94L8.5 2.5l-.94 2.06-2.06.94zm10 10l.94 2.06.94-2.06 2.06-.94-2.06-.94-.94-2.06-.94 2.06-2.06.94z\"/><path d=\"M17.41 7.96l-1.37-1.37c-.4-.4-.92-.59-1.43-.59-.52 0-1.04.2-1.43.59L10.3 9.45l-7.72 7.72c-.78.78-.78 2.05 0 2.83L4 21.41c.39.39.9.59 1.41.59.51 0 1.02-.2 1.41-.59l7.78-7.78 2.81-2.81c.8-.78.8-2.07 0-2.86zM5.41 20L4 18.59l7.72-7.72 1.47 1.35L5.41 20z\"/>\n",
       "  </svg>\n",
       "      </button>\n",
       "      \n",
       "  <style>\n",
       "    .colab-df-container {\n",
       "      display:flex;\n",
       "      flex-wrap:wrap;\n",
       "      gap: 12px;\n",
       "    }\n",
       "\n",
       "    .colab-df-convert {\n",
       "      background-color: #E8F0FE;\n",
       "      border: none;\n",
       "      border-radius: 50%;\n",
       "      cursor: pointer;\n",
       "      display: none;\n",
       "      fill: #1967D2;\n",
       "      height: 32px;\n",
       "      padding: 0 0 0 0;\n",
       "      width: 32px;\n",
       "    }\n",
       "\n",
       "    .colab-df-convert:hover {\n",
       "      background-color: #E2EBFA;\n",
       "      box-shadow: 0px 1px 2px rgba(60, 64, 67, 0.3), 0px 1px 3px 1px rgba(60, 64, 67, 0.15);\n",
       "      fill: #174EA6;\n",
       "    }\n",
       "\n",
       "    [theme=dark] .colab-df-convert {\n",
       "      background-color: #3B4455;\n",
       "      fill: #D2E3FC;\n",
       "    }\n",
       "\n",
       "    [theme=dark] .colab-df-convert:hover {\n",
       "      background-color: #434B5C;\n",
       "      box-shadow: 0px 1px 3px 1px rgba(0, 0, 0, 0.15);\n",
       "      filter: drop-shadow(0px 1px 2px rgba(0, 0, 0, 0.3));\n",
       "      fill: #FFFFFF;\n",
       "    }\n",
       "  </style>\n",
       "\n",
       "      <script>\n",
       "        const buttonEl =\n",
       "          document.querySelector('#df-3414c04d-4f59-467c-9072-29809f83324d button.colab-df-convert');\n",
       "        buttonEl.style.display =\n",
       "          google.colab.kernel.accessAllowed ? 'block' : 'none';\n",
       "\n",
       "        async function convertToInteractive(key) {\n",
       "          const element = document.querySelector('#df-3414c04d-4f59-467c-9072-29809f83324d');\n",
       "          const dataTable =\n",
       "            await google.colab.kernel.invokeFunction('convertToInteractive',\n",
       "                                                     [key], {});\n",
       "          if (!dataTable) return;\n",
       "\n",
       "          const docLinkHtml = 'Like what you see? Visit the ' +\n",
       "            '<a target=\"_blank\" href=https://colab.research.google.com/notebooks/data_table.ipynb>data table notebook</a>'\n",
       "            + ' to learn more about interactive tables.';\n",
       "          element.innerHTML = '';\n",
       "          dataTable['output_type'] = 'display_data';\n",
       "          await google.colab.output.renderOutput(dataTable, element);\n",
       "          const docLink = document.createElement('div');\n",
       "          docLink.innerHTML = docLinkHtml;\n",
       "          element.appendChild(docLink);\n",
       "        }\n",
       "      </script>\n",
       "    </div>\n",
       "  </div>\n",
       "  "
      ],
      "text/plain": [
       "  Country or region  GDP per capita  Social support  Healthy life expectancy  \\\n",
       "0              Peru           0.960           1.274                    0.854   \n",
       "1         Nicaragua           0.694           1.325                    0.835   \n",
       "2            Greece           1.181           1.156                    0.999   \n",
       "3             Qatar           1.684           1.313                    0.871   \n",
       "4        Uzbekistan           0.745           1.529                    0.756   \n",
       "\n",
       "   Freedom to make life choices  Generosity  Perceptions of corruption  \\\n",
       "0                         0.455       0.083                      0.027   \n",
       "1                         0.435       0.200                      0.127   \n",
       "2                         0.067       0.000                      0.034   \n",
       "3                         0.555       0.220                      0.167   \n",
       "4                         0.631       0.322                      0.240   \n",
       "\n",
       "         name    region                       sub-region  Terrorist_attacks  \n",
       "0        Peru  Americas  Latin America and the Caribbean          18.000000  \n",
       "1   Nicaragua  Americas  Latin America and the Caribbean         125.611111  \n",
       "2      Greece    Europe                  Southern Europe         112.000000  \n",
       "3       Qatar      Asia                     Western Asia          57.333333  \n",
       "4  Uzbekistan      Asia                     Central Asia         125.611111  "
      ]
     },
     "execution_count": 15,
     "metadata": {},
     "output_type": "execute_result"
    }
   ],
   "source": [
    "X_train.head()"
   ]
  },
  {
   "cell_type": "code",
   "execution_count": 16,
   "id": "6e0a6fce",
   "metadata": {
    "colab": {
     "base_uri": "https://localhost:8080/",
     "height": 265
    },
    "id": "6e0a6fce",
    "outputId": "c035243d-d92b-44d8-b879-0ede3dca2227"
   },
   "outputs": [
    {
     "data": {
      "text/html": [
       "\n",
       "  <div id=\"df-b4e8381b-c89c-4d9b-be17-71feedeaefb9\">\n",
       "    <div class=\"colab-df-container\">\n",
       "      <div>\n",
       "<style scoped>\n",
       "    .dataframe tbody tr th:only-of-type {\n",
       "        vertical-align: middle;\n",
       "    }\n",
       "\n",
       "    .dataframe tbody tr th {\n",
       "        vertical-align: top;\n",
       "    }\n",
       "\n",
       "    .dataframe thead th {\n",
       "        text-align: right;\n",
       "    }\n",
       "</style>\n",
       "<table border=\"1\" class=\"dataframe\">\n",
       "  <thead>\n",
       "    <tr style=\"text-align: right;\">\n",
       "      <th></th>\n",
       "      <th>Country or region</th>\n",
       "      <th>GDP per capita</th>\n",
       "      <th>Social support</th>\n",
       "      <th>Healthy life expectancy</th>\n",
       "      <th>Freedom to make life choices</th>\n",
       "      <th>Generosity</th>\n",
       "      <th>Perceptions of corruption</th>\n",
       "      <th>name</th>\n",
       "      <th>region</th>\n",
       "      <th>sub-region</th>\n",
       "      <th>Terrorist_attacks</th>\n",
       "    </tr>\n",
       "  </thead>\n",
       "  <tbody>\n",
       "    <tr>\n",
       "      <th>0</th>\n",
       "      <td>Bulgaria</td>\n",
       "      <td>1.092</td>\n",
       "      <td>1.513</td>\n",
       "      <td>0.815</td>\n",
       "      <td>0.311</td>\n",
       "      <td>0.081</td>\n",
       "      <td>0.004</td>\n",
       "      <td>Bulgaria</td>\n",
       "      <td>Europe</td>\n",
       "      <td>Eastern Europe</td>\n",
       "      <td>7.000000</td>\n",
       "    </tr>\n",
       "    <tr>\n",
       "      <th>1</th>\n",
       "      <td>Serbia</td>\n",
       "      <td>1.004</td>\n",
       "      <td>1.383</td>\n",
       "      <td>0.854</td>\n",
       "      <td>0.282</td>\n",
       "      <td>0.137</td>\n",
       "      <td>0.039</td>\n",
       "      <td>Serbia</td>\n",
       "      <td>Europe</td>\n",
       "      <td>Southern Europe</td>\n",
       "      <td>2.000000</td>\n",
       "    </tr>\n",
       "    <tr>\n",
       "      <th>2</th>\n",
       "      <td>Mongolia</td>\n",
       "      <td>0.948</td>\n",
       "      <td>1.531</td>\n",
       "      <td>0.667</td>\n",
       "      <td>0.317</td>\n",
       "      <td>0.235</td>\n",
       "      <td>0.038</td>\n",
       "      <td>Mongolia</td>\n",
       "      <td>Asia</td>\n",
       "      <td>Eastern Asia</td>\n",
       "      <td>585.434783</td>\n",
       "    </tr>\n",
       "    <tr>\n",
       "      <th>3</th>\n",
       "      <td>Dominican Republic</td>\n",
       "      <td>1.015</td>\n",
       "      <td>1.401</td>\n",
       "      <td>0.779</td>\n",
       "      <td>0.497</td>\n",
       "      <td>0.113</td>\n",
       "      <td>0.101</td>\n",
       "      <td>Dominican Republic</td>\n",
       "      <td>Americas</td>\n",
       "      <td>Latin America and the Caribbean</td>\n",
       "      <td>1.000000</td>\n",
       "    </tr>\n",
       "    <tr>\n",
       "      <th>4</th>\n",
       "      <td>Burkina Faso</td>\n",
       "      <td>0.331</td>\n",
       "      <td>1.056</td>\n",
       "      <td>0.380</td>\n",
       "      <td>0.255</td>\n",
       "      <td>0.177</td>\n",
       "      <td>0.113</td>\n",
       "      <td>Burkina Faso</td>\n",
       "      <td>Africa</td>\n",
       "      <td>Sub-Saharan Africa</td>\n",
       "      <td>7.000000</td>\n",
       "    </tr>\n",
       "  </tbody>\n",
       "</table>\n",
       "</div>\n",
       "      <button class=\"colab-df-convert\" onclick=\"convertToInteractive('df-b4e8381b-c89c-4d9b-be17-71feedeaefb9')\"\n",
       "              title=\"Convert this dataframe to an interactive table.\"\n",
       "              style=\"display:none;\">\n",
       "        \n",
       "  <svg xmlns=\"http://www.w3.org/2000/svg\" height=\"24px\"viewBox=\"0 0 24 24\"\n",
       "       width=\"24px\">\n",
       "    <path d=\"M0 0h24v24H0V0z\" fill=\"none\"/>\n",
       "    <path d=\"M18.56 5.44l.94 2.06.94-2.06 2.06-.94-2.06-.94-.94-2.06-.94 2.06-2.06.94zm-11 1L8.5 8.5l.94-2.06 2.06-.94-2.06-.94L8.5 2.5l-.94 2.06-2.06.94zm10 10l.94 2.06.94-2.06 2.06-.94-2.06-.94-.94-2.06-.94 2.06-2.06.94z\"/><path d=\"M17.41 7.96l-1.37-1.37c-.4-.4-.92-.59-1.43-.59-.52 0-1.04.2-1.43.59L10.3 9.45l-7.72 7.72c-.78.78-.78 2.05 0 2.83L4 21.41c.39.39.9.59 1.41.59.51 0 1.02-.2 1.41-.59l7.78-7.78 2.81-2.81c.8-.78.8-2.07 0-2.86zM5.41 20L4 18.59l7.72-7.72 1.47 1.35L5.41 20z\"/>\n",
       "  </svg>\n",
       "      </button>\n",
       "      \n",
       "  <style>\n",
       "    .colab-df-container {\n",
       "      display:flex;\n",
       "      flex-wrap:wrap;\n",
       "      gap: 12px;\n",
       "    }\n",
       "\n",
       "    .colab-df-convert {\n",
       "      background-color: #E8F0FE;\n",
       "      border: none;\n",
       "      border-radius: 50%;\n",
       "      cursor: pointer;\n",
       "      display: none;\n",
       "      fill: #1967D2;\n",
       "      height: 32px;\n",
       "      padding: 0 0 0 0;\n",
       "      width: 32px;\n",
       "    }\n",
       "\n",
       "    .colab-df-convert:hover {\n",
       "      background-color: #E2EBFA;\n",
       "      box-shadow: 0px 1px 2px rgba(60, 64, 67, 0.3), 0px 1px 3px 1px rgba(60, 64, 67, 0.15);\n",
       "      fill: #174EA6;\n",
       "    }\n",
       "\n",
       "    [theme=dark] .colab-df-convert {\n",
       "      background-color: #3B4455;\n",
       "      fill: #D2E3FC;\n",
       "    }\n",
       "\n",
       "    [theme=dark] .colab-df-convert:hover {\n",
       "      background-color: #434B5C;\n",
       "      box-shadow: 0px 1px 3px 1px rgba(0, 0, 0, 0.15);\n",
       "      filter: drop-shadow(0px 1px 2px rgba(0, 0, 0, 0.3));\n",
       "      fill: #FFFFFF;\n",
       "    }\n",
       "  </style>\n",
       "\n",
       "      <script>\n",
       "        const buttonEl =\n",
       "          document.querySelector('#df-b4e8381b-c89c-4d9b-be17-71feedeaefb9 button.colab-df-convert');\n",
       "        buttonEl.style.display =\n",
       "          google.colab.kernel.accessAllowed ? 'block' : 'none';\n",
       "\n",
       "        async function convertToInteractive(key) {\n",
       "          const element = document.querySelector('#df-b4e8381b-c89c-4d9b-be17-71feedeaefb9');\n",
       "          const dataTable =\n",
       "            await google.colab.kernel.invokeFunction('convertToInteractive',\n",
       "                                                     [key], {});\n",
       "          if (!dataTable) return;\n",
       "\n",
       "          const docLinkHtml = 'Like what you see? Visit the ' +\n",
       "            '<a target=\"_blank\" href=https://colab.research.google.com/notebooks/data_table.ipynb>data table notebook</a>'\n",
       "            + ' to learn more about interactive tables.';\n",
       "          element.innerHTML = '';\n",
       "          dataTable['output_type'] = 'display_data';\n",
       "          await google.colab.output.renderOutput(dataTable, element);\n",
       "          const docLink = document.createElement('div');\n",
       "          docLink.innerHTML = docLinkHtml;\n",
       "          element.appendChild(docLink);\n",
       "        }\n",
       "      </script>\n",
       "    </div>\n",
       "  </div>\n",
       "  "
      ],
      "text/plain": [
       "    Country or region  GDP per capita  Social support  \\\n",
       "0            Bulgaria           1.092           1.513   \n",
       "1              Serbia           1.004           1.383   \n",
       "2            Mongolia           0.948           1.531   \n",
       "3  Dominican Republic           1.015           1.401   \n",
       "4        Burkina Faso           0.331           1.056   \n",
       "\n",
       "   Healthy life expectancy  Freedom to make life choices  Generosity  \\\n",
       "0                    0.815                         0.311       0.081   \n",
       "1                    0.854                         0.282       0.137   \n",
       "2                    0.667                         0.317       0.235   \n",
       "3                    0.779                         0.497       0.113   \n",
       "4                    0.380                         0.255       0.177   \n",
       "\n",
       "   Perceptions of corruption                name    region  \\\n",
       "0                      0.004            Bulgaria    Europe   \n",
       "1                      0.039              Serbia    Europe   \n",
       "2                      0.038            Mongolia      Asia   \n",
       "3                      0.101  Dominican Republic  Americas   \n",
       "4                      0.113        Burkina Faso    Africa   \n",
       "\n",
       "                        sub-region  Terrorist_attacks  \n",
       "0                   Eastern Europe           7.000000  \n",
       "1                  Southern Europe           2.000000  \n",
       "2                     Eastern Asia         585.434783  \n",
       "3  Latin America and the Caribbean           1.000000  \n",
       "4               Sub-Saharan Africa           7.000000  "
      ]
     },
     "execution_count": 16,
     "metadata": {},
     "output_type": "execute_result"
    }
   ],
   "source": [
    "X_test.head()"
   ]
  },
  {
   "cell_type": "code",
   "execution_count": 17,
   "id": "5c43749d",
   "metadata": {
    "colab": {
     "base_uri": "https://localhost:8080/",
     "height": 201
    },
    "id": "5c43749d",
    "outputId": "6b5d5832-100d-42a5-9660-2c32706b095a"
   },
   "outputs": [
    {
     "data": {
      "text/html": [
       "\n",
       "  <div id=\"df-bacb544a-9c53-495f-ba09-c82580b51b46\">\n",
       "    <div class=\"colab-df-container\">\n",
       "      <div>\n",
       "<style scoped>\n",
       "    .dataframe tbody tr th:only-of-type {\n",
       "        vertical-align: middle;\n",
       "    }\n",
       "\n",
       "    .dataframe tbody tr th {\n",
       "        vertical-align: top;\n",
       "    }\n",
       "\n",
       "    .dataframe thead th {\n",
       "        text-align: right;\n",
       "    }\n",
       "</style>\n",
       "<table border=\"1\" class=\"dataframe\">\n",
       "  <thead>\n",
       "    <tr style=\"text-align: right;\">\n",
       "      <th></th>\n",
       "      <th>Average</th>\n",
       "      <th>High</th>\n",
       "      <th>Low</th>\n",
       "      <th>Very High</th>\n",
       "      <th>Very Low</th>\n",
       "    </tr>\n",
       "  </thead>\n",
       "  <tbody>\n",
       "    <tr>\n",
       "      <th>0</th>\n",
       "      <td>1</td>\n",
       "      <td>0</td>\n",
       "      <td>0</td>\n",
       "      <td>0</td>\n",
       "      <td>0</td>\n",
       "    </tr>\n",
       "    <tr>\n",
       "      <th>1</th>\n",
       "      <td>0</td>\n",
       "      <td>1</td>\n",
       "      <td>0</td>\n",
       "      <td>0</td>\n",
       "      <td>0</td>\n",
       "    </tr>\n",
       "    <tr>\n",
       "      <th>2</th>\n",
       "      <td>1</td>\n",
       "      <td>0</td>\n",
       "      <td>0</td>\n",
       "      <td>0</td>\n",
       "      <td>0</td>\n",
       "    </tr>\n",
       "    <tr>\n",
       "      <th>3</th>\n",
       "      <td>0</td>\n",
       "      <td>0</td>\n",
       "      <td>0</td>\n",
       "      <td>1</td>\n",
       "      <td>0</td>\n",
       "    </tr>\n",
       "    <tr>\n",
       "      <th>4</th>\n",
       "      <td>0</td>\n",
       "      <td>1</td>\n",
       "      <td>0</td>\n",
       "      <td>0</td>\n",
       "      <td>0</td>\n",
       "    </tr>\n",
       "  </tbody>\n",
       "</table>\n",
       "</div>\n",
       "      <button class=\"colab-df-convert\" onclick=\"convertToInteractive('df-bacb544a-9c53-495f-ba09-c82580b51b46')\"\n",
       "              title=\"Convert this dataframe to an interactive table.\"\n",
       "              style=\"display:none;\">\n",
       "        \n",
       "  <svg xmlns=\"http://www.w3.org/2000/svg\" height=\"24px\"viewBox=\"0 0 24 24\"\n",
       "       width=\"24px\">\n",
       "    <path d=\"M0 0h24v24H0V0z\" fill=\"none\"/>\n",
       "    <path d=\"M18.56 5.44l.94 2.06.94-2.06 2.06-.94-2.06-.94-.94-2.06-.94 2.06-2.06.94zm-11 1L8.5 8.5l.94-2.06 2.06-.94-2.06-.94L8.5 2.5l-.94 2.06-2.06.94zm10 10l.94 2.06.94-2.06 2.06-.94-2.06-.94-.94-2.06-.94 2.06-2.06.94z\"/><path d=\"M17.41 7.96l-1.37-1.37c-.4-.4-.92-.59-1.43-.59-.52 0-1.04.2-1.43.59L10.3 9.45l-7.72 7.72c-.78.78-.78 2.05 0 2.83L4 21.41c.39.39.9.59 1.41.59.51 0 1.02-.2 1.41-.59l7.78-7.78 2.81-2.81c.8-.78.8-2.07 0-2.86zM5.41 20L4 18.59l7.72-7.72 1.47 1.35L5.41 20z\"/>\n",
       "  </svg>\n",
       "      </button>\n",
       "      \n",
       "  <style>\n",
       "    .colab-df-container {\n",
       "      display:flex;\n",
       "      flex-wrap:wrap;\n",
       "      gap: 12px;\n",
       "    }\n",
       "\n",
       "    .colab-df-convert {\n",
       "      background-color: #E8F0FE;\n",
       "      border: none;\n",
       "      border-radius: 50%;\n",
       "      cursor: pointer;\n",
       "      display: none;\n",
       "      fill: #1967D2;\n",
       "      height: 32px;\n",
       "      padding: 0 0 0 0;\n",
       "      width: 32px;\n",
       "    }\n",
       "\n",
       "    .colab-df-convert:hover {\n",
       "      background-color: #E2EBFA;\n",
       "      box-shadow: 0px 1px 2px rgba(60, 64, 67, 0.3), 0px 1px 3px 1px rgba(60, 64, 67, 0.15);\n",
       "      fill: #174EA6;\n",
       "    }\n",
       "\n",
       "    [theme=dark] .colab-df-convert {\n",
       "      background-color: #3B4455;\n",
       "      fill: #D2E3FC;\n",
       "    }\n",
       "\n",
       "    [theme=dark] .colab-df-convert:hover {\n",
       "      background-color: #434B5C;\n",
       "      box-shadow: 0px 1px 3px 1px rgba(0, 0, 0, 0.15);\n",
       "      filter: drop-shadow(0px 1px 2px rgba(0, 0, 0, 0.3));\n",
       "      fill: #FFFFFF;\n",
       "    }\n",
       "  </style>\n",
       "\n",
       "      <script>\n",
       "        const buttonEl =\n",
       "          document.querySelector('#df-bacb544a-9c53-495f-ba09-c82580b51b46 button.colab-df-convert');\n",
       "        buttonEl.style.display =\n",
       "          google.colab.kernel.accessAllowed ? 'block' : 'none';\n",
       "\n",
       "        async function convertToInteractive(key) {\n",
       "          const element = document.querySelector('#df-bacb544a-9c53-495f-ba09-c82580b51b46');\n",
       "          const dataTable =\n",
       "            await google.colab.kernel.invokeFunction('convertToInteractive',\n",
       "                                                     [key], {});\n",
       "          if (!dataTable) return;\n",
       "\n",
       "          const docLinkHtml = 'Like what you see? Visit the ' +\n",
       "            '<a target=\"_blank\" href=https://colab.research.google.com/notebooks/data_table.ipynb>data table notebook</a>'\n",
       "            + ' to learn more about interactive tables.';\n",
       "          element.innerHTML = '';\n",
       "          dataTable['output_type'] = 'display_data';\n",
       "          await google.colab.output.renderOutput(dataTable, element);\n",
       "          const docLink = document.createElement('div');\n",
       "          docLink.innerHTML = docLinkHtml;\n",
       "          element.appendChild(docLink);\n",
       "        }\n",
       "      </script>\n",
       "    </div>\n",
       "  </div>\n",
       "  "
      ],
      "text/plain": [
       "   Average  High  Low  Very High  Very Low\n",
       "0        1     0    0          0         0\n",
       "1        0     1    0          0         0\n",
       "2        1     0    0          0         0\n",
       "3        0     0    0          1         0\n",
       "4        0     1    0          0         0"
      ]
     },
     "execution_count": 17,
     "metadata": {},
     "output_type": "execute_result"
    }
   ],
   "source": [
    "y_train.head()"
   ]
  },
  {
   "cell_type": "code",
   "execution_count": 18,
   "id": "n4H-Fes2tvNj",
   "metadata": {
    "id": "n4H-Fes2tvNj"
   },
   "outputs": [],
   "source": [
    "y_train_labels = y_train.idxmax(axis=1)"
   ]
  },
  {
   "cell_type": "code",
   "execution_count": 19,
   "id": "EWK715e6tns2",
   "metadata": {
    "colab": {
     "base_uri": "https://localhost:8080/",
     "height": 908
    },
    "id": "EWK715e6tns2",
    "outputId": "8ced556f-61e4-40ef-8030-24591da8d075"
   },
   "outputs": [
    {
     "data": {
      "text/plain": [
       "<matplotlib.axes._subplots.AxesSubplot at 0x7fcf3c8f7340>"
      ]
     },
     "execution_count": 19,
     "metadata": {},
     "output_type": "execute_result"
    },
    {
     "data": {
      "image/png": "[encoded data removed]",
      "text/plain": [
       "<Figure size 1080x720 with 1 Axes>"
      ]
     },
     "metadata": {
      "needs_background": "light"
     },
     "output_type": "display_data"
    },
    {
     "data": {
      "image/png": "[encoded data removed]",
      "text/plain": [
       "<Figure size 1080x720 with 1 Axes>"
      ]
     },
     "metadata": {
      "needs_background": "light"
     },
     "output_type": "display_data"
    },
    {
     "data": {
      "image/png": "[encoded data removed]",
      "text/plain": [
       "<Figure size 1080x720 with 1 Axes>"
      ]
     },
     "metadata": {
      "needs_background": "light"
     },
     "output_type": "display_data"
    }
   ],
   "source": [
    "plt.figure(figsize=(15,10))\n",
    "plt.subplot(2,2,1)\n",
    "sns.violinplot(x=X_train['GDP per capita'], y = y_train_labels, order=[\"Very High\", \"High\", \"Average\", \"Low\", \"Very Low\"])\n",
    "\n",
    "plt.figure(figsize=(15,10))\n",
    "plt.subplot(2,2,1)\n",
    "sns.violinplot(x=X_train['Perceptions of corruption'], y = y_train_labels, order=[\"Very High\", \"High\", \"Average\", \"Low\", \"Very Low\"])\n",
    "\n",
    "plt.figure(figsize=(15,10))\n",
    "plt.subplot(2,2,1)\n",
    "sns.violinplot(x=X_train['Social support'], y = y_train_labels, order=[\"Very High\", \"High\", \"Average\", \"Low\", \"Very Low\"])"
   ]
  },
  {
   "cell_type": "markdown",
   "id": "Y0ipTfxrt_vJ",
   "metadata": {
    "id": "Y0ipTfxrt_vJ"
   },
   "source": [
    "I visualized GDP per capita, Perceptions of Corruption, and Social Support against levels of happiness within a country with violin plots, which show the probability distributions of a country's happiness on different levels of GDP per capita, Perceptions of corruption, and Social support. It appears that GDP per capita is highly correlated with levels of happiness, and there seems to be a slight effect of social suport on happiness levels. Perceptions of corruption dont seem to affect happiness levels i.e. countries that have a low perception of corruption are not necessarily happier. However, the countries with the least corruption do tend to be most likely to be 'Very Happy'"
   ]
  },
  {
   "cell_type": "markdown",
   "id": "df5b4dfd",
   "metadata": {
    "id": "df5b4dfd"
   },
   "source": [
    "We can see that 7 of the 10 features in our training data are continuous  numeric features, and the remaining ones are categorical. We will now check for any missing data before we scale our data and then train a model"
   ]
  },
  {
   "cell_type": "code",
   "execution_count": 7,
   "id": "3a79b0ab",
   "metadata": {
    "colab": {
     "base_uri": "https://localhost:8080/"
    },
    "id": "3a79b0ab",
    "outputId": "ac73f730-a7de-4480-a976-5747a26537c7"
   },
   "outputs": [
    {
     "data": {
      "text/plain": [
       "Country or region               0\n",
       "GDP per capita                  0\n",
       "Social support                  0\n",
       "Healthy life expectancy         0\n",
       "Freedom to make life choices    0\n",
       "Generosity                      0\n",
       "Perceptions of corruption       0\n",
       "name                            0\n",
       "region                          0\n",
       "sub-region                      0\n",
       "Terrorist_attacks               0\n",
       "dtype: int64"
      ]
     },
     "execution_count": 7,
     "metadata": {},
     "output_type": "execute_result"
    }
   ],
   "source": [
    "X_train.isnull().sum()"
   ]
  },
  {
   "cell_type": "markdown",
   "id": "d9183651",
   "metadata": {
    "id": "d9183651"
   },
   "source": [
    "It appears we dont have any missing data points"
   ]
  },
  {
   "cell_type": "markdown",
   "id": "OUV2oePevKUF",
   "metadata": {
    "id": "OUV2oePevKUF"
   },
   "source": [
    "We will now extract the feature importance "
   ]
  },
  {
   "cell_type": "code",
   "execution_count": 31,
   "id": "WHdlFwhSvJ2w",
   "metadata": {
    "id": "WHdlFwhSvJ2w"
   },
   "outputs": [],
   "source": [
    "X_train_numeric = X_train.drop(['Country or region', 'name', 'region', 'sub-region'], axis=1)"
   ]
  },
  {
   "cell_type": "code",
   "execution_count": 32,
   "id": "UJWwnUPrvHK5",
   "metadata": {
    "colab": {
     "base_uri": "https://localhost:8080/"
    },
    "id": "UJWwnUPrvHK5",
    "outputId": "d8da243e-8f89-4f66-a43a-6f17fc7e2745"
   },
   "outputs": [
    {
     "name": "stdout",
     "output_type": "stream",
     "text": [
      "[0.22444571 0.16683231 0.18898903 0.12411203 0.08311597 0.13004629\n",
      " 0.08245865]\n"
     ]
    }
   ],
   "source": [
    "from sklearn.ensemble import RandomForestClassifier\n",
    "\n",
    "rf = RandomForestClassifier(n_estimators=100)\n",
    "rfmodel = rf.fit(X_train_numeric, y_train)\n",
    "\n",
    "\n",
    "print(rfmodel.feature_importances_)"
   ]
  },
  {
   "cell_type": "markdown",
   "id": "kHkGMm48G7bq",
   "metadata": {
    "id": "kHkGMm48G7bq"
   },
   "source": [
    "It seems that GDP per capita, Health Life Expectancy, and Social Support are the top three most important features  in predicting the happiness levels of a country.\n"
   ]
  },
  {
   "cell_type": "markdown",
   "id": "zcM5jVsNwi8w",
   "metadata": {
    "id": "zcM5jVsNwi8w"
   },
   "source": [
    "We will now preprocess our data and fit some models!"
   ]
  },
  {
   "cell_type": "code",
   "execution_count": 21,
   "id": "Amykcdyeq9WY",
   "metadata": {
    "id": "Amykcdyeq9WY"
   },
   "outputs": [],
   "source": [
    "from sklearn.preprocessing import StandardScaler, OneHotEncoder\n",
    "from sklearn.compose import ColumnTransformer, make_column_transformer\n",
    "from sklearn.pipeline import Pipeline\n",
    "from sklearn.impute import SimpleImputer\n",
    "from sklearn.preprocessing import StandardScaler, OneHotEncoder\n",
    "\n",
    "\n",
    "numeric_features = X_train.drop(['Country or region', 'name', 'region', 'sub-region'], axis=1)\n",
    "numeric_features=numeric_features.columns.tolist()\n",
    "\n",
    "numeric_transformer = Pipeline(steps=[\n",
    "    ('scaler', StandardScaler())])\n",
    "\n",
    "categorical_features = ['region', 'sub-region']\n",
    "\n",
    "categorical_transformer = Pipeline(steps=[\n",
    "    ('onehot', OneHotEncoder(handle_unknown='ignore'))])\n",
    "\n",
    "preprocessor = ColumnTransformer(\n",
    "    transformers=[\n",
    "        ('num', numeric_transformer, numeric_features),\n",
    "        ('cat', categorical_transformer, categorical_features)])\n",
    "\n",
    "preprocess=preprocessor.fit(X_train) "
   ]
  },
  {
   "cell_type": "code",
   "execution_count": 22,
   "id": "fIzU_lGFsn1G",
   "metadata": {
    "id": "fIzU_lGFsn1G"
   },
   "outputs": [],
   "source": [
    "def preprocessor(data):\n",
    "    data.drop(['Country or region', 'name'], axis=1)\n",
    "    preprocessed_data=preprocess.transform(data)\n",
    "    return preprocessed_data"
   ]
  },
  {
   "cell_type": "code",
   "execution_count": 23,
   "id": "emoFGfC0swb_",
   "metadata": {
    "colab": {
     "base_uri": "https://localhost:8080/"
    },
    "id": "emoFGfC0swb_",
    "outputId": "12c5fe44-d708-47de-9b75-4139aa2eb322"
   },
   "outputs": [
    {
     "name": "stdout",
     "output_type": "stream",
     "text": [
      "Your preprocessor is now saved to 'preprocessor.zip'\n"
     ]
    }
   ],
   "source": [
    "ai.export_preprocessor(preprocessor,\"\") "
   ]
  },
  {
   "cell_type": "markdown",
   "id": "d6d0ce6b",
   "metadata": {
    "id": "d6d0ce6b"
   },
   "source": [
    "My first model will be a penalized Logistic Regression Model"
   ]
  },
  {
   "cell_type": "code",
   "execution_count": 36,
   "id": "dcb3bdaa",
   "metadata": {
    "colab": {
     "base_uri": "https://localhost:8080/"
    },
    "id": "dcb3bdaa",
    "outputId": "df01b0bc-aa91-463c-c10a-6c1a4e041386"
   },
   "outputs": [
    {
     "name": "stdout",
     "output_type": "stream",
     "text": [
      "{'C': 0.5}\n",
      "LogisticRegression(C=0.5, max_iter=1000, multi_class='multinomial')\n",
      "0.6941176470588235\n"
     ]
    }
   ],
   "source": [
    "from sklearn.model_selection import GridSearchCV\n",
    "from sklearn.linear_model import LogisticRegression\n",
    "\n",
    "\n",
    "param_grid = {'C': [0.001, 0.01, 0.1, 0.5, 1, 10, 100, 1000]} \n",
    "\n",
    "grid1 = GridSearchCV(LogisticRegression(penalty= 'l2', multi_class=\"multinomial\", max_iter= 1000), param_grid=param_grid, cv=5)\n",
    "\n",
    "grid1.fit(preprocessor(X_train), y_train_labels)\n",
    "         \n",
    "print(grid1.best_params_)\n",
    "print(grid1.best_estimator_)\n",
    "print(grid1.best_score_)\n",
    "\n"
   ]
  },
  {
   "cell_type": "code",
   "execution_count": 37,
   "id": "1b4e7ca1",
   "metadata": {
    "id": "1b4e7ca1"
   },
   "outputs": [],
   "source": [
    "model1 =grid1.best_estimator_"
   ]
  },
  {
   "cell_type": "code",
   "execution_count": 38,
   "id": "b5dcfed4",
   "metadata": {
    "colab": {
     "base_uri": "https://localhost:8080/"
    },
    "id": "b5dcfed4",
    "outputId": "64618a8a-515c-44e0-d0f3-334c4ce49c7f"
   },
   "outputs": [
    {
     "name": "stdout",
     "output_type": "stream",
     "text": [
      "{'max_depth': 30, 'n_estimators': 100}\n",
      "RandomForestClassifier(max_depth=30)\n",
      "0.7490196078431371\n"
     ]
    }
   ],
   "source": [
    "from sklearn.ensemble import RandomForestClassifier\n",
    "\n",
    "param_grid = {'n_estimators': np.arange(100, 600, 100), \n",
    "             'max_depth': np.arange(5, 50, 5)} \n",
    "\n",
    "grid2 = GridSearchCV(RandomForestClassifier(), param_grid=param_grid, cv=5)\n",
    "\n",
    "grid2.fit(preprocessor(X_train), y_train_labels)\n",
    "         \n",
    "print(grid2.best_params_)\n",
    "print(grid2.best_estimator_)\n",
    "print(grid2.best_score_)"
   ]
  },
  {
   "cell_type": "code",
   "execution_count": 40,
   "id": "1b53be6d",
   "metadata": {
    "id": "1b53be6d"
   },
   "outputs": [],
   "source": [
    "model2 =grid2.best_estimator_"
   ]
  },
  {
   "cell_type": "code",
   "execution_count": 41,
   "id": "d09fb5f8",
   "metadata": {
    "colab": {
     "base_uri": "https://localhost:8080/"
    },
    "id": "d09fb5f8",
    "outputId": "46f6649f-0394-46c2-ed96-165ba2da2a2c"
   },
   "outputs": [
    {
     "name": "stdout",
     "output_type": "stream",
     "text": [
      "{'n_neighbors': 7}\n",
      "KNeighborsClassifier(n_neighbors=7)\n",
      "0.6607843137254903\n"
     ]
    }
   ],
   "source": [
    "from sklearn.neighbors import KNeighborsClassifier\n",
    "\n",
    "param_grid = {'n_neighbors': np.arange(1, 20, 2)} \n",
    "\n",
    "grid3 = GridSearchCV(KNeighborsClassifier(), param_grid=param_grid, cv=5)\n",
    "\n",
    "grid3.fit(preprocessor(X_train), y_train_labels)\n",
    "         \n",
    "print(grid3.best_params_)\n",
    "print(grid3.best_estimator_)\n",
    "print(grid3.best_score_)"
   ]
  },
  {
   "cell_type": "code",
   "execution_count": 42,
   "id": "0ce620ba",
   "metadata": {
    "id": "0ce620ba"
   },
   "outputs": [],
   "source": [
    "model3 = grid3.best_estimator_"
   ]
  },
  {
   "cell_type": "code",
   "execution_count": null,
   "id": "WI8vPcrjXopG",
   "metadata": {
    "id": "WI8vPcrjXopG"
   },
   "outputs": [],
   "source": [
    "! pip install aimodelshare --upgrade"
   ]
  },
  {
   "cell_type": "code",
   "execution_count": 43,
   "id": "8201db6f",
   "metadata": {
    "id": "8201db6f"
   },
   "outputs": [],
   "source": [
    "import aimodelshare as ai\n",
    "from aimodelshare.aimsonnx import model_to_onnx\n",
    "from aimodelshare.aws import set_credentials\n",
    "from skl2onnx.common.data_types import FloatTensorType\n",
    "\n",
    "\n",
    "feature_count=preprocessor(X_test).shape[1] \n",
    "initial_type = [('float_input', FloatTensorType([None, feature_count]))]\n",
    "\n",
    "onnx_model1 = model_to_onnx(model1, framework='sklearn',\n",
    "                          initial_types=initial_type,\n",
    "                          transfer_learning=False,\n",
    "                          deep_learning=False)\n",
    "\n",
    "onnx_model2 = model_to_onnx(model2, framework='sklearn',\n",
    "                          initial_types=initial_type,\n",
    "                          transfer_learning=False,\n",
    "                          deep_learning=False)\n",
    "\n",
    "onnx_model3 = model_to_onnx(model3, framework='sklearn',\n",
    "                          initial_types=initial_type,\n",
    "                          transfer_learning=False,\n",
    "                          deep_learning=False)\n",
    "\n",
    "\n"
   ]
  },
  {
   "cell_type": "code",
   "execution_count": 50,
   "id": "XWZsKw3RzpEX",
   "metadata": {
    "id": "XWZsKw3RzpEX"
   },
   "outputs": [],
   "source": [
    "with open(\"model1.onnx\", \"wb\") as f:\n",
    "    f.write(onnx_model1.SerializeToString())\n",
    "\n",
    "with open(\"model2.onnx\", \"wb\") as f:\n",
    "    f.write(onnx_model2.SerializeToString())\n",
    "\n",
    "with open(\"model3.onnx\", \"wb\") as f:\n",
    "    f.write(onnx_model3.SerializeToString())"
   ]
  },
  {
   "cell_type": "code",
   "execution_count": 44,
   "id": "8f4f61f3",
   "metadata": {
    "colab": {
     "base_uri": "https://localhost:8080/"
    },
    "id": "8f4f61f3",
    "outputId": "c62da752-fbae-4a73-ac00-4762bcfda923"
   },
   "outputs": [
    {
     "name": "stdout",
     "output_type": "stream",
     "text": [
      "AI Modelshare Username:··········\n",
      "AI Modelshare Password:··········\n",
      "AI Model Share login credentials set successfully.\n"
     ]
    }
   ],
   "source": [
    "apiurl=\"https://e2w6gh3id1.execute-api.us-east-2.amazonaws.com/prod/m\"\n",
    "\n",
    "set_credentials(apiurl=apiurl)"
   ]
  },
  {
   "cell_type": "code",
   "execution_count": 46,
   "id": "34156851",
   "metadata": {
    "id": "34156851"
   },
   "outputs": [],
   "source": [
    "mycompetition= ai.Competition(apiurl)"
   ]
  },
  {
   "cell_type": "code",
   "execution_count": 51,
   "id": "Vp2r96aXWZIN",
   "metadata": {
    "colab": {
     "base_uri": "https://localhost:8080/"
    },
    "id": "Vp2r96aXWZIN",
    "outputId": "d49f2007-f825-40b7-aad4-611ebfd944d3"
   },
   "outputs": [
    {
     "name": "stdout",
     "output_type": "stream",
     "text": [
      "Insert search tags to help users find your model (optional): \n",
      "Provide any useful notes about your model (optional): \n",
      "\n",
      "Your model has been submitted as model version 742\n",
      "\n",
      "To submit code used to create this model or to view current leaderboard navigate to Model Playground: \n",
      "\n",
      " https://www.modelshare.org/detail/model:3164\n"
     ]
    }
   ],
   "source": [
    "prediction_labels_1 = model1.predict(preprocessor(X_test))\n",
    "\n",
    "mycompetition.submit_model(model_filepath = \"model1.onnx\",\n",
    "                                 preprocessor_filepath=\"preprocessor.zip\",\n",
    "                                 prediction_submission=prediction_labels_1)"
   ]
  },
  {
   "cell_type": "code",
   "execution_count": 52,
   "id": "r-LP-MQcySzF",
   "metadata": {
    "colab": {
     "base_uri": "https://localhost:8080/"
    },
    "id": "r-LP-MQcySzF",
    "outputId": "4baa3ef7-40b5-433b-8f4b-290a153b1dd8"
   },
   "outputs": [
    {
     "name": "stdout",
     "output_type": "stream",
     "text": [
      "Insert search tags to help users find your model (optional): \n",
      "Provide any useful notes about your model (optional): \n",
      "\n",
      "Your model has been submitted as model version 743\n",
      "\n",
      "To submit code used to create this model or to view current leaderboard navigate to Model Playground: \n",
      "\n",
      " https://www.modelshare.org/detail/model:3164\n"
     ]
    }
   ],
   "source": [
    "prediction_labels_2 = model2.predict(preprocessor(X_test))\n",
    "\n",
    "mycompetition.submit_model(model_filepath = \"model2.onnx\",\n",
    "                                 preprocessor_filepath=\"preprocessor.zip\",\n",
    "                                 prediction_submission=prediction_labels_2)"
   ]
  },
  {
   "cell_type": "code",
   "execution_count": 53,
   "id": "lW3nIH1zyexE",
   "metadata": {
    "colab": {
     "base_uri": "https://localhost:8080/"
    },
    "id": "lW3nIH1zyexE",
    "outputId": "29239e2f-25bd-4107-839d-75bfa50b51f9"
   },
   "outputs": [
    {
     "name": "stdout",
     "output_type": "stream",
     "text": [
      "Insert search tags to help users find your model (optional): \n",
      "Provide any useful notes about your model (optional): \n",
      "\n",
      "Your model has been submitted as model version 744\n",
      "\n",
      "To submit code used to create this model or to view current leaderboard navigate to Model Playground: \n",
      "\n",
      " https://www.modelshare.org/detail/model:3164\n"
     ]
    }
   ],
   "source": [
    "prediction_labels_3 = model3.predict(preprocessor(X_test))\n",
    "\n",
    "mycompetition.submit_model(model_filepath = \"model3.onnx\",\n",
    "                                 preprocessor_filepath=\"preprocessor.zip\",\n",
    "                                 prediction_submission=prediction_labels_3)"
   ]
  },
  {
   "cell_type": "code",
   "execution_count": null,
   "id": "Go-2R7Trz6I_",
   "metadata": {
    "id": "Go-2R7Trz6I_"
   },
   "outputs": [],
   "source": [
    "mycompetition.stylize_leaderboard(mycompetition.get_leaderboard())"
   ]
  },
  {
   "cell_type": "markdown",
   "id": "RygXGCQA1UOq",
   "metadata": {
    "id": "RygXGCQA1UOq"
   },
   "source": [
    "I will now try to fit three more models\n",
    "\n",
    "\n",
    "\n",
    "*   A SVC model\n",
    "*   A gradient boosted model\n",
    "*   A Voting Classifier which combines the predictions of all the other models\n",
    "\n"
   ]
  },
  {
   "cell_type": "code",
   "execution_count": 56,
   "id": "gGFZ3rC10Bym",
   "metadata": {
    "colab": {
     "base_uri": "https://localhost:8080/"
    },
    "id": "gGFZ3rC10Bym",
    "outputId": "3b3e7c08-fa81-4a3c-e135-f2d0c9021912"
   },
   "outputs": [
    {
     "name": "stdout",
     "output_type": "stream",
     "text": [
      "{'C': 1, 'gamma': 0.1}\n",
      "SVC(C=1, gamma=0.1)\n",
      "0.7052287581699346\n"
     ]
    }
   ],
   "source": [
    "from sklearn.svm import SVC\n",
    "\n",
    "param_grid = {'C': [1, 5, 10, 50],\n",
    "              'gamma': [0.0001, 0.0005, 0.001, 0.005, 0.01, 0.1, 1]}\n",
    "grid4 = GridSearchCV(SVC(), param_grid)\n",
    "\n",
    "grid4.fit(preprocessor(X_train), y_train_labels)\n",
    "print(grid4.best_params_)\n",
    "print(grid4.best_estimator_)\n",
    "print(grid4.best_score_)"
   ]
  },
  {
   "cell_type": "code",
   "execution_count": 57,
   "id": "G9MmpbuT38FB",
   "metadata": {
    "id": "G9MmpbuT38FB"
   },
   "outputs": [],
   "source": [
    "model4 = grid4.best_estimator_"
   ]
  },
  {
   "cell_type": "code",
   "execution_count": 59,
   "id": "wkpuZQMM-biy",
   "metadata": {
    "colab": {
     "base_uri": "https://localhost:8080/"
    },
    "id": "wkpuZQMM-biy",
    "outputId": "f1f555e2-31af-41a8-c6a6-d7404bc43e27"
   },
   "outputs": [
    {
     "data": {
      "text/plain": [
       "GridSearchCV(estimator=GradientBoostingClassifier(),\n",
       "             param_grid={'learning_rate': [0.01, 0.1, 1, 10, 100],\n",
       "                         'max_depth': [1, 3, 5, 7, 9],\n",
       "                         'n_estimators': [5, 50, 250, 500]})"
      ]
     },
     "execution_count": 59,
     "metadata": {},
     "output_type": "execute_result"
    }
   ],
   "source": [
    "from sklearn.ensemble import GradientBoostingClassifier\n",
    "\n",
    "\n",
    "param_grid ={\"n_estimators\":[5,50,250,500],\n",
    "             \"max_depth\":[1,3,5,7,9],\n",
    "             \"learning_rate\":[0.01,0.1,1,10,100]\n",
    "             }\n",
    "\n",
    "grid5 = GridSearchCV(GradientBoostingClassifier(), param_grid)\n",
    "\n",
    "\n",
    "grid5.fit(preprocessor(X_train), y_train_labels)\n",
    "\n"
   ]
  },
  {
   "cell_type": "code",
   "execution_count": 60,
   "id": "eJGoEDwTAS6M",
   "metadata": {
    "colab": {
     "base_uri": "https://localhost:8080/"
    },
    "id": "eJGoEDwTAS6M",
    "outputId": "ce1390dc-4c16-4490-b48c-051fdd6feda9"
   },
   "outputs": [
    {
     "name": "stdout",
     "output_type": "stream",
     "text": [
      "{'learning_rate': 0.1, 'max_depth': 5, 'n_estimators': 500}\n",
      "GradientBoostingClassifier(max_depth=5, n_estimators=500)\n",
      "0.6483660130718955\n"
     ]
    }
   ],
   "source": [
    "print(grid5.best_params_)\n",
    "print(grid5.best_estimator_)\n",
    "print(grid5.best_score_)"
   ]
  },
  {
   "cell_type": "code",
   "execution_count": 61,
   "id": "mi1Zbku4AZqQ",
   "metadata": {
    "id": "mi1Zbku4AZqQ"
   },
   "outputs": [],
   "source": [
    "model5 = grid5.best_estimator_"
   ]
  },
  {
   "cell_type": "code",
   "execution_count": 83,
   "id": "8kwJNsGL_CXY",
   "metadata": {
    "id": "8kwJNsGL_CXY"
   },
   "outputs": [],
   "source": [
    "from sklearn.ensemble import VotingClassifier\n",
    "\n",
    "voting_clf = VotingClassifier(\n",
    "    estimators=[('lr', model1), ('rf', model2), ('knn', model3), ('svc', model4), ('gbc', model5)],\n",
    "    voting='hard') \n",
    "\n",
    "model_v = voting_clf.fit(preprocessor(X_train), y_train_labels)\n",
    "\n",
    "v_predictions = model_v.predict(preprocessor(X_test))"
   ]
  },
  {
   "cell_type": "code",
   "execution_count": 71,
   "id": "bhy8GxmbRf4V",
   "metadata": {
    "id": "bhy8GxmbRf4V"
   },
   "outputs": [],
   "source": []
  },
  {
   "cell_type": "code",
   "execution_count": 72,
   "id": "HfFkpoaOAuqe",
   "metadata": {
    "id": "HfFkpoaOAuqe"
   },
   "outputs": [],
   "source": [
    "\n",
    "\n",
    "onnx_model4 = model_to_onnx(model4, framework='sklearn',\n",
    "                          initial_types=initial_type,\n",
    "                          transfer_learning=False,\n",
    "                          deep_learning=False)\n",
    "\n",
    "onnx_model5 = model_to_onnx(model5, framework='sklearn',\n",
    "                          initial_types=initial_type,\n",
    "                          transfer_learning=False,\n",
    "                          deep_learning=False)\n",
    "\n",
    "onnx_model_v = model_to_onnx(model_v, framework='sklearn',\n",
    "                          initial_types=initial_type,\n",
    "                          transfer_learning=False,\n",
    "                          deep_learning=False)"
   ]
  },
  {
   "cell_type": "code",
   "execution_count": null,
   "id": "nHMB-kqnCCdu",
   "metadata": {
    "id": "nHMB-kqnCCdu"
   },
   "outputs": [],
   "source": []
  },
  {
   "cell_type": "code",
   "execution_count": 73,
   "id": "ZMkMVS8FCyje",
   "metadata": {
    "id": "ZMkMVS8FCyje"
   },
   "outputs": [],
   "source": [
    "with open(\"model4.onnx\", \"wb\") as f:\n",
    "    f.write(onnx_model1.SerializeToString())\n",
    "\n",
    "with open(\"model5.onnx\", \"wb\") as f:\n",
    "    f.write(onnx_model2.SerializeToString())\n",
    "\n",
    "with open(\"modelv.onnx\", \"wb\") as f:\n",
    "    f.write(onnx_model_v.SerializeToString())"
   ]
  },
  {
   "cell_type": "code",
   "execution_count": 74,
   "id": "repzS6RGEvDy",
   "metadata": {
    "colab": {
     "base_uri": "https://localhost:8080/"
    },
    "id": "repzS6RGEvDy",
    "outputId": "c7899b81-2995-411b-cb9e-26ee0ec1b1fe"
   },
   "outputs": [
    {
     "name": "stdout",
     "output_type": "stream",
     "text": [
      "Insert search tags to help users find your model (optional): \n",
      "Provide any useful notes about your model (optional): \n",
      "\n",
      "Your model has been submitted as model version 808\n",
      "\n",
      "To submit code used to create this model or to view current leaderboard navigate to Model Playground: \n",
      "\n",
      " https://www.modelshare.org/detail/model:3164\n"
     ]
    }
   ],
   "source": [
    "prediction_labels_4 = model4.predict(preprocessor(X_test))\n",
    "\n",
    "mycompetition.submit_model(model_filepath = \"model4.onnx\",\n",
    "                                 preprocessor_filepath=\"preprocessor.zip\",\n",
    "                                 prediction_submission=prediction_labels_4)"
   ]
  },
  {
   "cell_type": "code",
   "execution_count": 75,
   "id": "oKGyrR44EwEl",
   "metadata": {
    "colab": {
     "base_uri": "https://localhost:8080/"
    },
    "id": "oKGyrR44EwEl",
    "outputId": "78849a4c-e43d-47e9-dbb3-d2e1e1385b28"
   },
   "outputs": [
    {
     "name": "stdout",
     "output_type": "stream",
     "text": [
      "Insert search tags to help users find your model (optional): \n",
      "Provide any useful notes about your model (optional): \n",
      "\n",
      "Your model has been submitted as model version 809\n",
      "\n",
      "To submit code used to create this model or to view current leaderboard navigate to Model Playground: \n",
      "\n",
      " https://www.modelshare.org/detail/model:3164\n"
     ]
    }
   ],
   "source": [
    "prediction_labels_5 = model5.predict(preprocessor(X_test))\n",
    "\n",
    "mycompetition.submit_model(model_filepath = \"model5.onnx\",\n",
    "                                 preprocessor_filepath=\"preprocessor.zip\",\n",
    "                                 prediction_submission=prediction_labels_5)"
   ]
  },
  {
   "cell_type": "code",
   "execution_count": 84,
   "id": "vf4rmPfkEw6f",
   "metadata": {
    "colab": {
     "base_uri": "https://localhost:8080/"
    },
    "id": "vf4rmPfkEw6f",
    "outputId": "8e37a70c-3fb1-4abc-b87d-200bc3d6390b"
   },
   "outputs": [
    {
     "name": "stdout",
     "output_type": "stream",
     "text": [
      "Insert search tags to help users find your model (optional): \n",
      "Provide any useful notes about your model (optional): \n",
      "\n",
      "Your model has been submitted as model version 811\n",
      "\n",
      "To submit code used to create this model or to view current leaderboard navigate to Model Playground: \n",
      "\n",
      " https://www.modelshare.org/detail/model:3164\n"
     ]
    }
   ],
   "source": [
    "mycompetition.submit_model(model_filepath = \"modelv.onnx\",\n",
    "                                 preprocessor_filepath=\"preprocessor.zip\",\n",
    "                                 prediction_submission=v_predictions)"
   ]
  },
  {
   "cell_type": "code",
   "execution_count": null,
   "id": "Mju6r2mSFBkW",
   "metadata": {
    "id": "Mju6r2mSFBkW"
   },
   "outputs": [],
   "source": [
    "mycompetition.stylize_leaderboard(mycompetition.get_leaderboard())"
   ]
  },
  {
   "cell_type": "code",
   "execution_count": 86,
   "id": "fNaVhutmLLpc",
   "metadata": {
    "id": "fNaVhutmLLpc"
   },
   "outputs": [],
   "source": [
    "leaderboard = mycompetition.get_leaderboard()\n",
    "\n"
   ]
  },
  {
   "cell_type": "code",
   "execution_count": 88,
   "id": "XgV72tekNJNY",
   "metadata": {
    "colab": {
     "base_uri": "https://localhost:8080/",
     "height": 363
    },
    "id": "XgV72tekNJNY",
    "outputId": "4778ec84-8663-4074-8460-2c5eaae46c97"
   },
   "outputs": [
    {
     "data": {
      "text/html": [
       "\n",
       "  <div id=\"df-61749ba7-56e0-4788-b4d3-4dd77239e826\">\n",
       "    <div class=\"colab-df-container\">\n",
       "      <div>\n",
       "<style scoped>\n",
       "    .dataframe tbody tr th:only-of-type {\n",
       "        vertical-align: middle;\n",
       "    }\n",
       "\n",
       "    .dataframe tbody tr th {\n",
       "        vertical-align: top;\n",
       "    }\n",
       "\n",
       "    .dataframe thead th {\n",
       "        text-align: right;\n",
       "    }\n",
       "</style>\n",
       "<table border=\"1\" class=\"dataframe\">\n",
       "  <thead>\n",
       "    <tr style=\"text-align: right;\">\n",
       "      <th></th>\n",
       "      <th>accuracy</th>\n",
       "      <th>f1_score</th>\n",
       "      <th>precision</th>\n",
       "      <th>recall</th>\n",
       "      <th>ml_framework</th>\n",
       "      <th>deep_learning</th>\n",
       "      <th>model_type</th>\n",
       "      <th>depth</th>\n",
       "      <th>num_params</th>\n",
       "      <th>flatten_layers</th>\n",
       "      <th>...</th>\n",
       "      <th>relu_act</th>\n",
       "      <th>tanh_act</th>\n",
       "      <th>softmax_act</th>\n",
       "      <th>loss</th>\n",
       "      <th>optimizer</th>\n",
       "      <th>memory_size</th>\n",
       "      <th>team</th>\n",
       "      <th>username</th>\n",
       "      <th>timestamp</th>\n",
       "      <th>version</th>\n",
       "    </tr>\n",
       "  </thead>\n",
       "  <tbody>\n",
       "    <tr>\n",
       "      <th>0</th>\n",
       "      <td>0.558824</td>\n",
       "      <td>0.539394</td>\n",
       "      <td>0.682145</td>\n",
       "      <td>0.581429</td>\n",
       "      <td>sklearn</td>\n",
       "      <td>NaN</td>\n",
       "      <td>RandomForestClassifier</td>\n",
       "      <td>NaN</td>\n",
       "      <td>NaN</td>\n",
       "      <td>NaN</td>\n",
       "      <td>...</td>\n",
       "      <td>NaN</td>\n",
       "      <td>NaN</td>\n",
       "      <td>NaN</td>\n",
       "      <td>NaN</td>\n",
       "      <td>NaN</td>\n",
       "      <td>NaN</td>\n",
       "      <td>6</td>\n",
       "      <td>sdp2158</td>\n",
       "      <td>2023-02-06 19:39:59.372410</td>\n",
       "      <td>510</td>\n",
       "    </tr>\n",
       "    <tr>\n",
       "      <th>1</th>\n",
       "      <td>0.588235</td>\n",
       "      <td>0.576515</td>\n",
       "      <td>0.655916</td>\n",
       "      <td>0.595000</td>\n",
       "      <td>sklearn</td>\n",
       "      <td>NaN</td>\n",
       "      <td>GradientBoostingClassifier</td>\n",
       "      <td>NaN</td>\n",
       "      <td>NaN</td>\n",
       "      <td>NaN</td>\n",
       "      <td>...</td>\n",
       "      <td>NaN</td>\n",
       "      <td>NaN</td>\n",
       "      <td>NaN</td>\n",
       "      <td>NaN</td>\n",
       "      <td>NaN</td>\n",
       "      <td>NaN</td>\n",
       "      <td>NaN</td>\n",
       "      <td>yatharth</td>\n",
       "      <td>2023-01-31 22:48:33.976381</td>\n",
       "      <td>58</td>\n",
       "    </tr>\n",
       "    <tr>\n",
       "      <th>2</th>\n",
       "      <td>0.588235</td>\n",
       "      <td>0.576515</td>\n",
       "      <td>0.655916</td>\n",
       "      <td>0.595000</td>\n",
       "      <td>sklearn</td>\n",
       "      <td>NaN</td>\n",
       "      <td>GradientBoostingClassifier</td>\n",
       "      <td>NaN</td>\n",
       "      <td>NaN</td>\n",
       "      <td>NaN</td>\n",
       "      <td>...</td>\n",
       "      <td>NaN</td>\n",
       "      <td>NaN</td>\n",
       "      <td>NaN</td>\n",
       "      <td>NaN</td>\n",
       "      <td>NaN</td>\n",
       "      <td>NaN</td>\n",
       "      <td>four</td>\n",
       "      <td>ran_liao</td>\n",
       "      <td>2023-02-04 20:55:33.079937</td>\n",
       "      <td>299</td>\n",
       "    </tr>\n",
       "    <tr>\n",
       "      <th>3</th>\n",
       "      <td>0.588235</td>\n",
       "      <td>0.576515</td>\n",
       "      <td>0.655916</td>\n",
       "      <td>0.595000</td>\n",
       "      <td>sklearn</td>\n",
       "      <td>NaN</td>\n",
       "      <td>GradientBoostingClassifier</td>\n",
       "      <td>NaN</td>\n",
       "      <td>NaN</td>\n",
       "      <td>NaN</td>\n",
       "      <td>...</td>\n",
       "      <td>NaN</td>\n",
       "      <td>NaN</td>\n",
       "      <td>NaN</td>\n",
       "      <td>NaN</td>\n",
       "      <td>NaN</td>\n",
       "      <td>NaN</td>\n",
       "      <td>NaN</td>\n",
       "      <td>xilin0323</td>\n",
       "      <td>2023-02-07 16:44:16.780532</td>\n",
       "      <td>734</td>\n",
       "    </tr>\n",
       "    <tr>\n",
       "      <th>4</th>\n",
       "      <td>0.558824</td>\n",
       "      <td>0.518891</td>\n",
       "      <td>0.695000</td>\n",
       "      <td>0.566429</td>\n",
       "      <td>sklearn</td>\n",
       "      <td>NaN</td>\n",
       "      <td>GradientBoostingClassifier</td>\n",
       "      <td>NaN</td>\n",
       "      <td>NaN</td>\n",
       "      <td>NaN</td>\n",
       "      <td>...</td>\n",
       "      <td>NaN</td>\n",
       "      <td>NaN</td>\n",
       "      <td>NaN</td>\n",
       "      <td>NaN</td>\n",
       "      <td>NaN</td>\n",
       "      <td>NaN</td>\n",
       "      <td>6</td>\n",
       "      <td>francesyang</td>\n",
       "      <td>2023-02-04 21:16:23.508811</td>\n",
       "      <td>305</td>\n",
       "    </tr>\n",
       "  </tbody>\n",
       "</table>\n",
       "<p>5 rows × 24 columns</p>\n",
       "</div>\n",
       "      <button class=\"colab-df-convert\" onclick=\"convertToInteractive('df-61749ba7-56e0-4788-b4d3-4dd77239e826')\"\n",
       "              title=\"Convert this dataframe to an interactive table.\"\n",
       "              style=\"display:none;\">\n",
       "        \n",
       "  <svg xmlns=\"http://www.w3.org/2000/svg\" height=\"24px\"viewBox=\"0 0 24 24\"\n",
       "       width=\"24px\">\n",
       "    <path d=\"M0 0h24v24H0V0z\" fill=\"none\"/>\n",
       "    <path d=\"M18.56 5.44l.94 2.06.94-2.06 2.06-.94-2.06-.94-.94-2.06-.94 2.06-2.06.94zm-11 1L8.5 8.5l.94-2.06 2.06-.94-2.06-.94L8.5 2.5l-.94 2.06-2.06.94zm10 10l.94 2.06.94-2.06 2.06-.94-2.06-.94-.94-2.06-.94 2.06-2.06.94z\"/><path d=\"M17.41 7.96l-1.37-1.37c-.4-.4-.92-.59-1.43-.59-.52 0-1.04.2-1.43.59L10.3 9.45l-7.72 7.72c-.78.78-.78 2.05 0 2.83L4 21.41c.39.39.9.59 1.41.59.51 0 1.02-.2 1.41-.59l7.78-7.78 2.81-2.81c.8-.78.8-2.07 0-2.86zM5.41 20L4 18.59l7.72-7.72 1.47 1.35L5.41 20z\"/>\n",
       "  </svg>\n",
       "      </button>\n",
       "      \n",
       "  <style>\n",
       "    .colab-df-container {\n",
       "      display:flex;\n",
       "      flex-wrap:wrap;\n",
       "      gap: 12px;\n",
       "    }\n",
       "\n",
       "    .colab-df-convert {\n",
       "      background-color: #E8F0FE;\n",
       "      border: none;\n",
       "      border-radius: 50%;\n",
       "      cursor: pointer;\n",
       "      display: none;\n",
       "      fill: #1967D2;\n",
       "      height: 32px;\n",
       "      padding: 0 0 0 0;\n",
       "      width: 32px;\n",
       "    }\n",
       "\n",
       "    .colab-df-convert:hover {\n",
       "      background-color: #E2EBFA;\n",
       "      box-shadow: 0px 1px 2px rgba(60, 64, 67, 0.3), 0px 1px 3px 1px rgba(60, 64, 67, 0.15);\n",
       "      fill: #174EA6;\n",
       "    }\n",
       "\n",
       "    [theme=dark] .colab-df-convert {\n",
       "      background-color: #3B4455;\n",
       "      fill: #D2E3FC;\n",
       "    }\n",
       "\n",
       "    [theme=dark] .colab-df-convert:hover {\n",
       "      background-color: #434B5C;\n",
       "      box-shadow: 0px 1px 3px 1px rgba(0, 0, 0, 0.15);\n",
       "      filter: drop-shadow(0px 1px 2px rgba(0, 0, 0, 0.3));\n",
       "      fill: #FFFFFF;\n",
       "    }\n",
       "  </style>\n",
       "\n",
       "      <script>\n",
       "        const buttonEl =\n",
       "          document.querySelector('#df-61749ba7-56e0-4788-b4d3-4dd77239e826 button.colab-df-convert');\n",
       "        buttonEl.style.display =\n",
       "          google.colab.kernel.accessAllowed ? 'block' : 'none';\n",
       "\n",
       "        async function convertToInteractive(key) {\n",
       "          const element = document.querySelector('#df-61749ba7-56e0-4788-b4d3-4dd77239e826');\n",
       "          const dataTable =\n",
       "            await google.colab.kernel.invokeFunction('convertToInteractive',\n",
       "                                                     [key], {});\n",
       "          if (!dataTable) return;\n",
       "\n",
       "          const docLinkHtml = 'Like what you see? Visit the ' +\n",
       "            '<a target=\"_blank\" href=https://colab.research.google.com/notebooks/data_table.ipynb>data table notebook</a>'\n",
       "            + ' to learn more about interactive tables.';\n",
       "          element.innerHTML = '';\n",
       "          dataTable['output_type'] = 'display_data';\n",
       "          await google.colab.output.renderOutput(dataTable, element);\n",
       "          const docLink = document.createElement('div');\n",
       "          docLink.innerHTML = docLinkHtml;\n",
       "          element.appendChild(docLink);\n",
       "        }\n",
       "      </script>\n",
       "    </div>\n",
       "  </div>\n",
       "  "
      ],
      "text/plain": [
       "   accuracy  f1_score  precision    recall ml_framework deep_learning  \\\n",
       "0  0.558824  0.539394   0.682145  0.581429      sklearn           NaN   \n",
       "1  0.588235  0.576515   0.655916  0.595000      sklearn           NaN   \n",
       "2  0.588235  0.576515   0.655916  0.595000      sklearn           NaN   \n",
       "3  0.588235  0.576515   0.655916  0.595000      sklearn           NaN   \n",
       "4  0.558824  0.518891   0.695000  0.566429      sklearn           NaN   \n",
       "\n",
       "                   model_type  depth  num_params  flatten_layers  ...  \\\n",
       "0      RandomForestClassifier    NaN         NaN             NaN  ...   \n",
       "1  GradientBoostingClassifier    NaN         NaN             NaN  ...   \n",
       "2  GradientBoostingClassifier    NaN         NaN             NaN  ...   \n",
       "3  GradientBoostingClassifier    NaN         NaN             NaN  ...   \n",
       "4  GradientBoostingClassifier    NaN         NaN             NaN  ...   \n",
       "\n",
       "   relu_act  tanh_act  softmax_act  loss  optimizer  memory_size  team  \\\n",
       "0       NaN       NaN          NaN   NaN        NaN          NaN     6   \n",
       "1       NaN       NaN          NaN   NaN        NaN          NaN   NaN   \n",
       "2       NaN       NaN          NaN   NaN        NaN          NaN  four   \n",
       "3       NaN       NaN          NaN   NaN        NaN          NaN   NaN   \n",
       "4       NaN       NaN          NaN   NaN        NaN          NaN     6   \n",
       "\n",
       "      username                   timestamp  version  \n",
       "0      sdp2158  2023-02-06 19:39:59.372410      510  \n",
       "1     yatharth  2023-01-31 22:48:33.976381       58  \n",
       "2     ran_liao  2023-02-04 20:55:33.079937      299  \n",
       "3    xilin0323  2023-02-07 16:44:16.780532      734  \n",
       "4  francesyang  2023-02-04 21:16:23.508811      305  \n",
       "\n",
       "[5 rows x 24 columns]"
      ]
     },
     "execution_count": 88,
     "metadata": {},
     "output_type": "execute_result"
    }
   ],
   "source": [
    "leaderboard.head()"
   ]
  },
  {
   "cell_type": "code",
   "execution_count": 96,
   "id": "05bv_Fq3X6ci",
   "metadata": {
    "colab": {
     "base_uri": "https://localhost:8080/",
     "height": 504
    },
    "id": "05bv_Fq3X6ci",
    "outputId": "e0afa23a-0438-45d0-f2c2-a0f5f9152885"
   },
   "outputs": [
    {
     "data": {
      "text/html": [
       "\n",
       "  <div id=\"df-9e47453f-ac00-4d08-a977-b0075f3564c9\">\n",
       "    <div class=\"colab-df-container\">\n",
       "      <div>\n",
       "<style scoped>\n",
       "    .dataframe tbody tr th:only-of-type {\n",
       "        vertical-align: middle;\n",
       "    }\n",
       "\n",
       "    .dataframe tbody tr th {\n",
       "        vertical-align: top;\n",
       "    }\n",
       "\n",
       "    .dataframe thead th {\n",
       "        text-align: right;\n",
       "    }\n",
       "</style>\n",
       "<table border=\"1\" class=\"dataframe\">\n",
       "  <thead>\n",
       "    <tr style=\"text-align: right;\">\n",
       "      <th></th>\n",
       "      <th>accuracy</th>\n",
       "      <th>f1_score</th>\n",
       "      <th>precision</th>\n",
       "      <th>recall</th>\n",
       "      <th>ml_framework</th>\n",
       "      <th>deep_learning</th>\n",
       "      <th>model_type</th>\n",
       "      <th>depth</th>\n",
       "      <th>num_params</th>\n",
       "      <th>flatten_layers</th>\n",
       "      <th>...</th>\n",
       "      <th>relu_act</th>\n",
       "      <th>tanh_act</th>\n",
       "      <th>softmax_act</th>\n",
       "      <th>loss</th>\n",
       "      <th>optimizer</th>\n",
       "      <th>memory_size</th>\n",
       "      <th>team</th>\n",
       "      <th>username</th>\n",
       "      <th>timestamp</th>\n",
       "      <th>version</th>\n",
       "    </tr>\n",
       "  </thead>\n",
       "  <tbody>\n",
       "    <tr>\n",
       "      <th>421</th>\n",
       "      <td>0.441176</td>\n",
       "      <td>0.413968</td>\n",
       "      <td>0.592424</td>\n",
       "      <td>0.467143</td>\n",
       "      <td>sklearn</td>\n",
       "      <td>NaN</td>\n",
       "      <td>RandomForestClassifier</td>\n",
       "      <td>NaN</td>\n",
       "      <td>NaN</td>\n",
       "      <td>NaN</td>\n",
       "      <td>...</td>\n",
       "      <td>NaN</td>\n",
       "      <td>NaN</td>\n",
       "      <td>NaN</td>\n",
       "      <td>NaN</td>\n",
       "      <td>NaN</td>\n",
       "      <td>NaN</td>\n",
       "      <td>2.0</td>\n",
       "      <td>lah2228</td>\n",
       "      <td>2023-01-31 23:21:57.995979</td>\n",
       "      <td>77</td>\n",
       "    </tr>\n",
       "    <tr>\n",
       "      <th>456</th>\n",
       "      <td>0.441176</td>\n",
       "      <td>0.443423</td>\n",
       "      <td>0.507106</td>\n",
       "      <td>0.455714</td>\n",
       "      <td>sklearn</td>\n",
       "      <td>NaN</td>\n",
       "      <td>LogisticRegression</td>\n",
       "      <td>NaN</td>\n",
       "      <td>130.0</td>\n",
       "      <td>NaN</td>\n",
       "      <td>...</td>\n",
       "      <td>NaN</td>\n",
       "      <td>NaN</td>\n",
       "      <td>NaN</td>\n",
       "      <td>NaN</td>\n",
       "      <td>lbfgs</td>\n",
       "      <td>NaN</td>\n",
       "      <td>NaN</td>\n",
       "      <td>lah2228</td>\n",
       "      <td>2023-02-07 19:09:29.629318</td>\n",
       "      <td>808</td>\n",
       "    </tr>\n",
       "    <tr>\n",
       "      <th>470</th>\n",
       "      <td>0.441176</td>\n",
       "      <td>0.427312</td>\n",
       "      <td>0.523810</td>\n",
       "      <td>0.467143</td>\n",
       "      <td>sklearn</td>\n",
       "      <td>NaN</td>\n",
       "      <td>LogisticRegression</td>\n",
       "      <td>NaN</td>\n",
       "      <td>130.0</td>\n",
       "      <td>NaN</td>\n",
       "      <td>...</td>\n",
       "      <td>NaN</td>\n",
       "      <td>NaN</td>\n",
       "      <td>NaN</td>\n",
       "      <td>NaN</td>\n",
       "      <td>lbfgs</td>\n",
       "      <td>NaN</td>\n",
       "      <td>NaN</td>\n",
       "      <td>lah2228</td>\n",
       "      <td>2023-02-07 16:56:39.460038</td>\n",
       "      <td>742</td>\n",
       "    </tr>\n",
       "    <tr>\n",
       "      <th>545</th>\n",
       "      <td>0.441176</td>\n",
       "      <td>0.407698</td>\n",
       "      <td>0.526190</td>\n",
       "      <td>0.455714</td>\n",
       "      <td>sklearn</td>\n",
       "      <td>NaN</td>\n",
       "      <td>RandomForestClassifier</td>\n",
       "      <td>NaN</td>\n",
       "      <td>NaN</td>\n",
       "      <td>NaN</td>\n",
       "      <td>...</td>\n",
       "      <td>NaN</td>\n",
       "      <td>NaN</td>\n",
       "      <td>NaN</td>\n",
       "      <td>NaN</td>\n",
       "      <td>NaN</td>\n",
       "      <td>NaN</td>\n",
       "      <td>2.0</td>\n",
       "      <td>lah2228</td>\n",
       "      <td>2023-01-31 23:14:01.684006</td>\n",
       "      <td>76</td>\n",
       "    </tr>\n",
       "    <tr>\n",
       "      <th>452</th>\n",
       "      <td>0.411765</td>\n",
       "      <td>0.389089</td>\n",
       "      <td>0.619048</td>\n",
       "      <td>0.415714</td>\n",
       "      <td>sklearn</td>\n",
       "      <td>NaN</td>\n",
       "      <td>RandomForestClassifier</td>\n",
       "      <td>NaN</td>\n",
       "      <td>NaN</td>\n",
       "      <td>NaN</td>\n",
       "      <td>...</td>\n",
       "      <td>NaN</td>\n",
       "      <td>NaN</td>\n",
       "      <td>NaN</td>\n",
       "      <td>NaN</td>\n",
       "      <td>NaN</td>\n",
       "      <td>NaN</td>\n",
       "      <td>NaN</td>\n",
       "      <td>lah2228</td>\n",
       "      <td>2023-02-07 19:09:47.711751</td>\n",
       "      <td>809</td>\n",
       "    </tr>\n",
       "    <tr>\n",
       "      <th>635</th>\n",
       "      <td>0.411765</td>\n",
       "      <td>0.412727</td>\n",
       "      <td>0.479487</td>\n",
       "      <td>0.427143</td>\n",
       "      <td>sklearn</td>\n",
       "      <td>NaN</td>\n",
       "      <td>VotingClassifier</td>\n",
       "      <td>NaN</td>\n",
       "      <td>NaN</td>\n",
       "      <td>NaN</td>\n",
       "      <td>...</td>\n",
       "      <td>NaN</td>\n",
       "      <td>NaN</td>\n",
       "      <td>NaN</td>\n",
       "      <td>NaN</td>\n",
       "      <td>NaN</td>\n",
       "      <td>NaN</td>\n",
       "      <td>NaN</td>\n",
       "      <td>lah2228</td>\n",
       "      <td>2023-02-07 19:12:49.506858</td>\n",
       "      <td>811</td>\n",
       "    </tr>\n",
       "    <tr>\n",
       "      <th>731</th>\n",
       "      <td>0.382353</td>\n",
       "      <td>0.375758</td>\n",
       "      <td>0.429487</td>\n",
       "      <td>0.398571</td>\n",
       "      <td>sklearn</td>\n",
       "      <td>NaN</td>\n",
       "      <td>KNeighborsClassifier</td>\n",
       "      <td>NaN</td>\n",
       "      <td>NaN</td>\n",
       "      <td>NaN</td>\n",
       "      <td>...</td>\n",
       "      <td>NaN</td>\n",
       "      <td>NaN</td>\n",
       "      <td>NaN</td>\n",
       "      <td>NaN</td>\n",
       "      <td>NaN</td>\n",
       "      <td>NaN</td>\n",
       "      <td>NaN</td>\n",
       "      <td>lah2228</td>\n",
       "      <td>2023-02-07 16:57:35.225263</td>\n",
       "      <td>744</td>\n",
       "    </tr>\n",
       "    <tr>\n",
       "      <th>746</th>\n",
       "      <td>0.382353</td>\n",
       "      <td>0.363232</td>\n",
       "      <td>0.439860</td>\n",
       "      <td>0.387143</td>\n",
       "      <td>sklearn</td>\n",
       "      <td>NaN</td>\n",
       "      <td>RandomForestClassifier</td>\n",
       "      <td>NaN</td>\n",
       "      <td>NaN</td>\n",
       "      <td>NaN</td>\n",
       "      <td>...</td>\n",
       "      <td>NaN</td>\n",
       "      <td>NaN</td>\n",
       "      <td>NaN</td>\n",
       "      <td>NaN</td>\n",
       "      <td>NaN</td>\n",
       "      <td>NaN</td>\n",
       "      <td>NaN</td>\n",
       "      <td>lah2228</td>\n",
       "      <td>2023-02-07 16:57:19.307424</td>\n",
       "      <td>743</td>\n",
       "    </tr>\n",
       "  </tbody>\n",
       "</table>\n",
       "<p>8 rows × 24 columns</p>\n",
       "</div>\n",
       "      <button class=\"colab-df-convert\" onclick=\"convertToInteractive('df-9e47453f-ac00-4d08-a977-b0075f3564c9')\"\n",
       "              title=\"Convert this dataframe to an interactive table.\"\n",
       "              style=\"display:none;\">\n",
       "        \n",
       "  <svg xmlns=\"http://www.w3.org/2000/svg\" height=\"24px\"viewBox=\"0 0 24 24\"\n",
       "       width=\"24px\">\n",
       "    <path d=\"M0 0h24v24H0V0z\" fill=\"none\"/>\n",
       "    <path d=\"M18.56 5.44l.94 2.06.94-2.06 2.06-.94-2.06-.94-.94-2.06-.94 2.06-2.06.94zm-11 1L8.5 8.5l.94-2.06 2.06-.94-2.06-.94L8.5 2.5l-.94 2.06-2.06.94zm10 10l.94 2.06.94-2.06 2.06-.94-2.06-.94-.94-2.06-.94 2.06-2.06.94z\"/><path d=\"M17.41 7.96l-1.37-1.37c-.4-.4-.92-.59-1.43-.59-.52 0-1.04.2-1.43.59L10.3 9.45l-7.72 7.72c-.78.78-.78 2.05 0 2.83L4 21.41c.39.39.9.59 1.41.59.51 0 1.02-.2 1.41-.59l7.78-7.78 2.81-2.81c.8-.78.8-2.07 0-2.86zM5.41 20L4 18.59l7.72-7.72 1.47 1.35L5.41 20z\"/>\n",
       "  </svg>\n",
       "      </button>\n",
       "      \n",
       "  <style>\n",
       "    .colab-df-container {\n",
       "      display:flex;\n",
       "      flex-wrap:wrap;\n",
       "      gap: 12px;\n",
       "    }\n",
       "\n",
       "    .colab-df-convert {\n",
       "      background-color: #E8F0FE;\n",
       "      border: none;\n",
       "      border-radius: 50%;\n",
       "      cursor: pointer;\n",
       "      display: none;\n",
       "      fill: #1967D2;\n",
       "      height: 32px;\n",
       "      padding: 0 0 0 0;\n",
       "      width: 32px;\n",
       "    }\n",
       "\n",
       "    .colab-df-convert:hover {\n",
       "      background-color: #E2EBFA;\n",
       "      box-shadow: 0px 1px 2px rgba(60, 64, 67, 0.3), 0px 1px 3px 1px rgba(60, 64, 67, 0.15);\n",
       "      fill: #174EA6;\n",
       "    }\n",
       "\n",
       "    [theme=dark] .colab-df-convert {\n",
       "      background-color: #3B4455;\n",
       "      fill: #D2E3FC;\n",
       "    }\n",
       "\n",
       "    [theme=dark] .colab-df-convert:hover {\n",
       "      background-color: #434B5C;\n",
       "      box-shadow: 0px 1px 3px 1px rgba(0, 0, 0, 0.15);\n",
       "      filter: drop-shadow(0px 1px 2px rgba(0, 0, 0, 0.3));\n",
       "      fill: #FFFFFF;\n",
       "    }\n",
       "  </style>\n",
       "\n",
       "      <script>\n",
       "        const buttonEl =\n",
       "          document.querySelector('#df-9e47453f-ac00-4d08-a977-b0075f3564c9 button.colab-df-convert');\n",
       "        buttonEl.style.display =\n",
       "          google.colab.kernel.accessAllowed ? 'block' : 'none';\n",
       "\n",
       "        async function convertToInteractive(key) {\n",
       "          const element = document.querySelector('#df-9e47453f-ac00-4d08-a977-b0075f3564c9');\n",
       "          const dataTable =\n",
       "            await google.colab.kernel.invokeFunction('convertToInteractive',\n",
       "                                                     [key], {});\n",
       "          if (!dataTable) return;\n",
       "\n",
       "          const docLinkHtml = 'Like what you see? Visit the ' +\n",
       "            '<a target=\"_blank\" href=https://colab.research.google.com/notebooks/data_table.ipynb>data table notebook</a>'\n",
       "            + ' to learn more about interactive tables.';\n",
       "          element.innerHTML = '';\n",
       "          dataTable['output_type'] = 'display_data';\n",
       "          await google.colab.output.renderOutput(dataTable, element);\n",
       "          const docLink = document.createElement('div');\n",
       "          docLink.innerHTML = docLinkHtml;\n",
       "          element.appendChild(docLink);\n",
       "        }\n",
       "      </script>\n",
       "    </div>\n",
       "  </div>\n",
       "  "
      ],
      "text/plain": [
       "     accuracy  f1_score  precision    recall ml_framework deep_learning  \\\n",
       "421  0.441176  0.413968   0.592424  0.467143      sklearn           NaN   \n",
       "456  0.441176  0.443423   0.507106  0.455714      sklearn           NaN   \n",
       "470  0.441176  0.427312   0.523810  0.467143      sklearn           NaN   \n",
       "545  0.441176  0.407698   0.526190  0.455714      sklearn           NaN   \n",
       "452  0.411765  0.389089   0.619048  0.415714      sklearn           NaN   \n",
       "635  0.411765  0.412727   0.479487  0.427143      sklearn           NaN   \n",
       "731  0.382353  0.375758   0.429487  0.398571      sklearn           NaN   \n",
       "746  0.382353  0.363232   0.439860  0.387143      sklearn           NaN   \n",
       "\n",
       "                 model_type  depth  num_params  flatten_layers  ...  relu_act  \\\n",
       "421  RandomForestClassifier    NaN         NaN             NaN  ...       NaN   \n",
       "456      LogisticRegression    NaN       130.0             NaN  ...       NaN   \n",
       "470      LogisticRegression    NaN       130.0             NaN  ...       NaN   \n",
       "545  RandomForestClassifier    NaN         NaN             NaN  ...       NaN   \n",
       "452  RandomForestClassifier    NaN         NaN             NaN  ...       NaN   \n",
       "635        VotingClassifier    NaN         NaN             NaN  ...       NaN   \n",
       "731    KNeighborsClassifier    NaN         NaN             NaN  ...       NaN   \n",
       "746  RandomForestClassifier    NaN         NaN             NaN  ...       NaN   \n",
       "\n",
       "     tanh_act  softmax_act  loss  optimizer  memory_size  team username  \\\n",
       "421       NaN          NaN   NaN        NaN          NaN   2.0  lah2228   \n",
       "456       NaN          NaN   NaN      lbfgs          NaN   NaN  lah2228   \n",
       "470       NaN          NaN   NaN      lbfgs          NaN   NaN  lah2228   \n",
       "545       NaN          NaN   NaN        NaN          NaN   2.0  lah2228   \n",
       "452       NaN          NaN   NaN        NaN          NaN   NaN  lah2228   \n",
       "635       NaN          NaN   NaN        NaN          NaN   NaN  lah2228   \n",
       "731       NaN          NaN   NaN        NaN          NaN   NaN  lah2228   \n",
       "746       NaN          NaN   NaN        NaN          NaN   NaN  lah2228   \n",
       "\n",
       "                      timestamp  version  \n",
       "421  2023-01-31 23:21:57.995979       77  \n",
       "456  2023-02-07 19:09:29.629318      808  \n",
       "470  2023-02-07 16:56:39.460038      742  \n",
       "545  2023-01-31 23:14:01.684006       76  \n",
       "452  2023-02-07 19:09:47.711751      809  \n",
       "635  2023-02-07 19:12:49.506858      811  \n",
       "731  2023-02-07 16:57:35.225263      744  \n",
       "746  2023-02-07 16:57:19.307424      743  \n",
       "\n",
       "[8 rows x 24 columns]"
      ]
     },
     "execution_count": 96,
     "metadata": {},
     "output_type": "execute_result"
    }
   ],
   "source": [
    "my_results = leaderboard.loc[leaderboard['username'] == 'lah2228']\n",
    "my_results = my_results.sort_values(by=['accuracy'], ascending=False)\n",
    "my_results"
   ]
  },
  {
   "cell_type": "markdown",
   "id": "x3ehhxTKZL8N",
   "metadata": {
    "id": "x3ehhxTKZL8N"
   },
   "source": [
    "My best performing model in terms of accuracy of prediction was the random forest classifier and predicted the correct level of happiness 44.11% of the time. My best performing model in terms of f1_score was the penalized logistic regression model"
   ]
  },
  {
   "cell_type": "code",
   "execution_count": 94,
   "id": "FTjfqvE6YKUQ",
   "metadata": {
    "id": "FTjfqvE6YKUQ"
   },
   "outputs": [],
   "source": []
  },
  {
   "cell_type": "code",
   "execution_count": null,
   "id": "tw74XjyMY6Dr",
   "metadata": {
    "id": "tw74XjyMY6Dr"
   },
   "outputs": [],
   "source": []
  }
 ],
 "metadata": {
  "colab": {
   "provenance": []
  },
  "kernelspec": {
   "display_name": "Python 3 (ipykernel)",
   "language": "python",
   "name": "python3"
  },
  "language_info": {
   "codemirror_mode": {
    "name": "ipython",
    "version": 3
   },
   "file_extension": ".py",
   "mimetype": "text/x-python",
   "name": "python",
   "nbconvert_exporter": "python",
   "pygments_lexer": "ipython3",
   "version": "3.9.12"
  }
 },
 "nbformat": 4,
 "nbformat_minor": 5
}
